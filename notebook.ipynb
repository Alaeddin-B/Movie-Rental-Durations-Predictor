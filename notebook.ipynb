{
 "cells": [
  {
   "cell_type": "markdown",
   "id": "b4ae5707-109f-4cd6-8168-88cac0179d6b",
   "metadata": {},
   "source": [
    "![dvd_image](dvd_image.jpg)\n",
    "\n",
    "A DVD rental company needs your help! They want to figure out how many days a customer will rent a DVD for based on some features and has approached you for help. They want you to try out some regression models which will help predict the number of days a customer will rent a DVD for. The company wants a model which yeilds a MSE of 3 or less on a test set. The model you make will help the company become more efficient inventory planning.\n",
    "\n",
    "The data they provided is in the csv file `rental_info.csv`. It has the following features:\n",
    "- `\"rental_date\"`: The date (and time) the customer rents the DVD.\n",
    "- `\"return_date\"`: The date (and time) the customer returns the DVD.\n",
    "- `\"amount\"`: The amount paid by the customer for renting the DVD.\n",
    "- `\"amount_2\"`: The square of `\"amount\"`.\n",
    "- `\"rental_rate\"`: The rate at which the DVD is rented for.\n",
    "- `\"rental_rate_2\"`: The square of `\"rental_rate\"`.\n",
    "- `\"release_year\"`: The year the movie being rented was released.\n",
    "- `\"length\"`: Lenght of the movie being rented, in minuites.\n",
    "- `\"length_2\"`: The square of `\"length\"`.\n",
    "- `\"replacement_cost\"`: The amount it will cost the company to replace the DVD.\n",
    "- `\"special_features\"`: Any special features, for example trailers/deleted scenes that the DVD also has.\n",
    "- `\"NC-17\"`, `\"PG\"`, `\"PG-13\"`, `\"R\"`: These columns are dummy variables of the rating of the movie. It takes the value 1 if the move is rated as the column name and 0 otherwise. For your convinience, the reference dummy has already been dropped."
   ]
  },
  {
   "cell_type": "code",
   "execution_count": null,
   "id": "a7ede566-910a-445c-b11a-68d192ac8506",
   "metadata": {
    "executionCancelledAt": null,
    "executionTime": 178,
    "lastExecutedAt": 1686931416969,
    "lastScheduledRunId": null,
    "lastSuccessfullyExecutedCode": "# Start your coding from below\nimport pandas as pd\nimport numpy as np\n\nfrom sklearn.model_selection import train_test_split\nfrom sklearn.metrics import mean_squared_error"
   },
   "outputs": [],
   "source": [
    "# Import Libraries\n",
    "import pandas as pd\n",
    "import numpy as np\n",
    "from itertools import product\n",
    "\n",
    "# Scikit-learn imports\n",
    "from sklearn.model_selection import train_test_split, GridSearchCV\n",
    "from sklearn.metrics import mean_squared_error\n",
    "from sklearn.preprocessing import StandardScaler\n",
    "from sklearn.pipeline import Pipeline\n",
    "\n",
    "# Regression models\n",
    "from sklearn.linear_model import LinearRegression, Lasso, Ridge\n",
    "from sklearn.ensemble import RandomForestRegressor, GradientBoostingRegressor, VotingRegressor\n",
    "from sklearn.svm import SVR\n",
    "from sklearn.neighbors import KNeighborsRegressor\n",
    "\n",
    "# Load dataset\n",
    "data = pd.read_csv('rental_info.csv')\n",
    "print(\"Dataset loaded successfully!\")\n",
    "print(f\"Dataset shape: {data.shape}\")\n",
    "data.head()"
   ]
  },
  {
   "cell_type": "markdown",
   "id": "30ea9f4a",
   "metadata": {},
   "source": [
    "# 1. Data Exploration"
   ]
  },
  {
   "cell_type": "code",
   "execution_count": null,
   "id": "7b7083d1",
   "metadata": {},
   "outputs": [],
   "source": [
    "# Dataset overview\n",
    "print(\"Dataset Information:\")\n",
    "data.info()\n",
    "print(\"\\nDataset Description:\")\n",
    "data.describe()"
   ]
  },
  {
   "cell_type": "code",
   "execution_count": null,
   "id": "80379791",
   "metadata": {},
   "outputs": [],
   "source": [
    "# Explore special features column\n",
    "print(\"Special Features Distribution:\")\n",
    "print(data[\"special_features\"].value_counts())\n",
    "print(f\"\\nUnique special features: {data['special_features'].nunique()}\")"
   ]
  },
  {
   "cell_type": "markdown",
   "id": "c93bc172",
   "metadata": {},
   "source": [
    "# 2. Data Preprocessing"
   ]
  },
  {
   "cell_type": "code",
   "execution_count": null,
   "id": "69a07172",
   "metadata": {},
   "outputs": [],
   "source": [
    "# Create target variable: rental length in days\n",
    "data[\"rental_length_days\"] = (pd.to_datetime(data[\"return_date\"]) - pd.to_datetime(data[\"rental_date\"])).dt.days\n",
    "\n",
    "# Create dummy variables for special_features column\n",
    "dummies = pd.DataFrame({\n",
    "    \"deleted_scenes\": data[\"special_features\"].apply(lambda x: 1 if \"Deleted Scenes\" in str(x) else 0),\n",
    "    \"behind_the_scenes\": data[\"special_features\"].apply(lambda x: 1 if \"Behind the Scenes\" in str(x) else 0),\n",
    "    \"commentaries\": data[\"special_features\"].apply(lambda x: 1 if \"Commentaries\" in str(x) else 0),\n",
    "    \"trailers\": data[\"special_features\"].apply(lambda x: 1 if \"Trailers\" in str(x) else 0),\n",
    "})\n",
    "data = pd.concat([data, dummies], axis=1)\n",
    "\n",
    "print(\"Preprocessing completed!\")\n",
    "print(f\"New dataset shape: {data.shape}\")\n",
    "print(f\"\\nTarget variable (rental_length_days) statistics:\")\n",
    "print(data[\"rental_length_days\"].describe())\n",
    "data.head()"
   ]
  },
  {
   "cell_type": "markdown",
   "id": "7c595cf3",
   "metadata": {},
   "source": [
    "# 3. Model Training and Evaluation\n",
    "\n",
    "## 3.1 Data Preparation and Helper Functions"
   ]
  },
  {
   "cell_type": "code",
   "execution_count": null,
   "id": "691ea90f",
   "metadata": {},
   "outputs": [],
   "source": [
    "# Helper functions for model evaluation\n",
    "def train_and_evaluate(model, X_train, y_train, X_test, y_test):\n",
    "    \"\"\"Train a model and return its RMSE on test set\"\"\"\n",
    "    model.fit(X_train, y_train)\n",
    "    return evaluate_model(model, X_test, y_test)\n",
    "\n",
    "def evaluate_model(model, X_test, y_test):\n",
    "    \"\"\"Evaluate model and return RMSE\"\"\"\n",
    "    y_pred = model.predict(X_test)\n",
    "    rmse = np.sqrt(mean_squared_error(y_test, y_pred))\n",
    "    return rmse\n",
    "\n",
    "# Prepare features and target\n",
    "y = data[\"rental_length_days\"]\n",
    "X = data.drop(columns=[\"rental_length_days\", \"rental_date\", \"return_date\", \"special_features\"])\n",
    "\n",
    "# Train-test split\n",
    "SEED = 9\n",
    "X_train, X_test, y_train, y_test = train_test_split(X, y, test_size=0.2, random_state=SEED)\n",
    "y_train_std = np.std(y_train)\n",
    "print(f\"Training set size: {X_train.shape}\")\n",
    "print(f\"Test set size: {X_test.shape}\")\n",
    "print(f\"Target variable standard deviation: {y_train_std:.2f}\")"
   ]
  },
  {
   "cell_type": "markdown",
   "id": "1c4196a8",
   "metadata": {},
   "source": [
    "## 3.2 Baseline Models"
   ]
  },
  {
   "cell_type": "code",
   "execution_count": null,
   "id": "7d8cd5e2",
   "metadata": {},
   "outputs": [],
   "source": [
    "# Train and evaluate baseline models\n",
    "models = {\n",
    "    'Linear Regression': LinearRegression(),\n",
    "    'Lasso Regression': Lasso(random_state=SEED),\n",
    "    'Ridge Regression': Ridge(random_state=SEED),\n",
    "    'Random Forest': RandomForestRegressor(random_state=SEED),\n",
    "    'SVR': SVR(),\n",
    "    'K-Nearest Neighbors': KNeighborsRegressor()\n",
    "}\n",
    "\n",
    "baseline_results = {}\n",
    "print(\"Baseline Model Results (RMSE):\")\n",
    "print(\"-\" * 40)\n",
    "for name, model in models.items():\n",
    "    rmse = train_and_evaluate(model, X_train, y_train, X_test, y_test)\n",
    "    baseline_results[name] = {'RMSE': rmse}\n",
    "    print(f\"{name}: {rmse:.4f}\")\n",
    "\n",
    "# Find best baseline model\n",
    "best_baseline = min(baseline_results.items(), key=lambda x: x[1]['RMSE'])\n",
    "print(f\"\\nBest baseline model: {best_baseline[0]} (RMSE: {best_baseline[1]['RMSE']:.4f})\")"
   ]
  },
  {
   "cell_type": "markdown",
   "id": "36975237",
   "metadata": {},
   "source": [
    "## 3.3 Hyperparameter Tuning\n",
    "\n",
    "### Random Forest Optimization"
   ]
  },
  {
   "cell_type": "code",
   "execution_count": null,
   "id": "201a19a1",
   "metadata": {},
   "outputs": [],
   "source": [
    "# Gradient Boosting Hyperparameter Tuning\n",
    "print(\"Tuning Gradient Boosting hyperparameters...\")\n",
    "gb_param_grid = {\n",
    "    \"n_estimators\": [100, 200, 300],\n",
    "    \"learning_rate\": [0.01, 0.1],\n",
    "    \"max_depth\": [3, 5, 7],\n",
    "    \"subsample\": [0.8, 0.9, 1.0],\n",
    "    \"max_features\": [0.8, 0.9, 1.0]\n",
    "}\n",
    "\n",
    "gb_grid = GridSearchCV(\n",
    "    GradientBoostingRegressor(random_state=SEED), \n",
    "    gb_param_grid, \n",
    "    cv=5, \n",
    "    scoring=\"neg_mean_squared_error\", \n",
    "    n_jobs=-1\n",
    ")\n",
    "gb_grid.fit(X_train, y_train)\n",
    "\n",
    "gb_best_rmse = np.sqrt(-gb_grid.best_score_)\n",
    "print(f\"Best Gradient Boosting parameters: {gb_grid.best_params_}\")\n",
    "print(f\"Best cross-validated RMSE: {gb_best_rmse:.4f}\")\n",
    "print(f\"Best cross-validated MSE: {gb_best_rmse**2:.4f}\")"
   ]
  },
  {
   "cell_type": "markdown",
   "id": "305ab922",
   "metadata": {},
   "source": [
    "## 3.4 Ensemble Methods"
   ]
  },
  {
   "cell_type": "code",
   "execution_count": null,
   "id": "497c1ab9",
   "metadata": {},
   "outputs": [],
   "source": [
    "# Random Forest Hyperparameter Tuning\n",
    "print(\"Tuning Random Forest hyperparameters...\")\n",
    "rf_param_grid = {\n",
    "    \"n_estimators\": [100, 200, 300],\n",
    "    \"max_depth\": [None, 10, 20],\n",
    "    \"min_samples_split\": [2, 5, 10],\n",
    "    \"min_samples_leaf\": [1, 2, 4],\n",
    "    \"max_features\": [\"sqrt\", \"log2\"]\n",
    "}\n",
    "\n",
    "rf_grid = GridSearchCV(\n",
    "    RandomForestRegressor(random_state=SEED), \n",
    "    rf_param_grid, \n",
    "    cv=5, \n",
    "    scoring=\"neg_mean_squared_error\", \n",
    "    n_jobs=-1\n",
    ")\n",
    "rf_grid.fit(X_train, y_train)\n",
    "\n",
    "rf_best_rmse = np.sqrt(-rf_grid.best_score_)\n",
    "print(f\"Best Random Forest parameters: {rf_grid.best_params_}\")\n",
    "print(f\"Best cross-validated RMSE: {rf_best_rmse:.4f}\")\n",
    "print(f\"Best cross-validated MSE: {rf_best_rmse**2:.4f}\")"
   ]
  },
  {
   "cell_type": "markdown",
   "id": "467c318c",
   "metadata": {},
   "source": [
    "### Gradient Boosting Optimization"
   ]
  },
  {
   "cell_type": "code",
   "execution_count": null,
   "id": "6c0fec30",
   "metadata": {},
   "outputs": [],
   "source": [
    "# Voting Regressor with optimized models\n",
    "voting_model_final = VotingRegressor(estimators=[\n",
    "    (\"rf\", rf_grid.best_estimator_),\n",
    "    (\"gb\", gb_grid.best_estimator_),\n",
    "])\n",
    "\n",
    "voting_rmse_final = train_and_evaluate(voting_model_final, X_train, y_train, X_test, y_test)\n",
    "print(f\"Final Voting Regressor Results:\")\n",
    "print(f\"RMSE: {voting_rmse_final:.4f}\")\n",
    "print(f\"MSE: {voting_rmse_final**2:.4f}\")"
   ]
  },
  {
   "cell_type": "markdown",
   "id": "d3d525fd",
   "metadata": {},
   "source": [
    "# 4. Results Summary and Conclusion"
   ]
  },
  {
   "cell_type": "code",
   "execution_count": null,
   "id": "3684873a",
   "metadata": {},
   "outputs": [],
   "source": [
    "# Final Model Comparison\n",
    "print(\"=\" * 60)\n",
    "print(\"FINAL MODEL PERFORMANCE SUMMARY\")\n",
    "print(\"=\" * 60)\n",
    "print(f\"Target: MSE < 3.0\")\n",
    "print(\"-\" * 60)\n",
    "\n",
    "# Test the best models on test set\n",
    "final_results = {}\n",
    "\n",
    "# Best Random Forest test performance\n",
    "rf_test_rmse = evaluate_model(rf_grid.best_estimator_, X_test, y_test)\n",
    "final_results['Random Forest (Tuned)'] = rf_test_rmse\n",
    "\n",
    "# Best Gradient Boosting test performance  \n",
    "gb_test_rmse = evaluate_model(gb_grid.best_estimator_, X_test, y_test)\n",
    "final_results['Gradient Boosting (Tuned)'] = gb_test_rmse\n",
    "\n",
    "# Final voting regressor test performance\n",
    "final_results['Voting Regressor (Final)'] = voting_rmse_final\n",
    "\n",
    "# Display results\n",
    "for model_name, rmse in final_results.items():\n",
    "    mse = rmse ** 2\n",
    "    status = \"✅ MEETS TARGET\" if mse < 3.0 else \"❌ ABOVE TARGET\"\n",
    "    print(f\"{model_name:<30}: RMSE={rmse:.4f}, MSE={mse:.4f} {status}\")\n",
    "\n",
    "# Best model\n",
    "best_model = min(final_results.items(), key=lambda x: x[1])\n",
    "print(f\"\\n🏆 BEST MODEL: {best_model[0]}\")\n",
    "print(f\"   Final Test RMSE: {best_model[1]:.4f}\")\n",
    "print(f\"   Final Test MSE:  {best_model[1]**2:.4f}\")\n",
    "\n",
    "if best_model[1]**2 < 3.0:\n",
    "    print(\"✅ SUCCESS: Model meets the company's MSE < 3.0 requirement!\")\n",
    "else:\n",
    "    print(\"❌ Target not met - further optimization needed.\")"
   ]
  }
 ],
 "metadata": {
  "colab": {
   "name": "Welcome to DataCamp Workspaces.ipynb",
   "provenance": []
  },
  "kernelspec": {
   "display_name": "Python 3",
   "language": "python",
   "name": "python3"
  },
  "language_info": {
   "codemirror_mode": {
    "name": "ipython",
    "version": 3
   },
   "file_extension": ".py",
   "mimetype": "text/x-python",
   "name": "python",
   "nbconvert_exporter": "python",
   "pygments_lexer": "ipython3",
   "version": "3.13.7"
  }
 },
 "nbformat": 4,
 "nbformat_minor": 5
}
